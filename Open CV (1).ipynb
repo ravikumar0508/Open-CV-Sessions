{
 "cells": [
  {
   "cell_type": "code",
   "execution_count": 2,
   "id": "6570f29f",
   "metadata": {},
   "outputs": [
    {
     "name": "stdout",
     "output_type": "stream",
     "text": [
      "4.7.0\n"
     ]
    }
   ],
   "source": [
    "\n",
    "#Version Check\n",
    "\n",
    "\n",
    "import cv2\n",
    "print(cv2.__version__)"
   ]
  },
  {
   "cell_type": "code",
   "execution_count": null,
   "id": "1192edb0",
   "metadata": {},
   "outputs": [],
   "source": [
    "\"\"\"\n",
    "\n",
    "Open CV- Computer Vision \n",
    "\n",
    "gathering data\n",
    "data processing\n",
    "model training\n",
    "model evaluation\n",
    "\n",
    "Libraries:\n",
    "Numpy \n",
    "Pandas\n",
    "\n",
    "Installation:\n",
    "pip install opencv-python\n",
    "\n",
    "Steps:\n",
    "inputting the image to make it accessible to the computer\n",
    "Extracting RGB Values of each pixel\n",
    "Resizing the image for Operation \n",
    "image Recogonitation/ detection algorithms\n",
    "Adding artifacts that help with the above step\n",
    "displaying the result\n",
    "\n",
    "\n",
    "Functions:\n",
    "cv2.imread() -used to input an image to work with\n",
    "cv2.imshow() -Displays the image in the working environment\n",
    "cv2.imwrite() -Write any change to the actual image\n",
    "\n",
    "\n",
    "Syntax:\n",
    "cv2.imread(file path,flag)\n",
    "File path - Denotes the location of the image to be read\n",
    "flag - specifies the way in which to read the image\n",
    "return  -return an image that is loaded  from the specified location\n",
    "\n",
    "\n",
    "grey scale image contain only one color like black and white\n",
    "\n",
    "\n",
    "cv2.imread(windowname ,image to be displayed)\n",
    "\n",
    "Syntax:\n",
    "\n",
    "windowname--> Nameof the window in which to display the file in\n",
    "return--> no return values but display the image on screen\n",
    "\n",
    "\n",
    "cv2.imwrite(filename,image to be saved) \n",
    "file name-->name of the file that will be saved \n",
    "Return-->return a boolean if the image saved sucessfully \n",
    "\n",
    "\"\"\""
   ]
  },
  {
   "cell_type": "code",
   "execution_count": 6,
   "id": "f8c3cef5",
   "metadata": {},
   "outputs": [
    {
     "name": "stdout",
     "output_type": "stream",
     "text": [
      "Height = 675, Width = 1200\n"
     ]
    }
   ],
   "source": [
    "#Read and print the Dimensions\n",
    "\n",
    "import cv2\n",
    "\n",
    "image = cv2.imread('C://Users//Lenovo//Downloads//Ford.jpg')\n",
    "\n",
    "x , y = image.shape[:2]\n",
    "\n",
    "print(\"Height = {}, Width = {}\".format(x,y))\n",
    "\n"
   ]
  },
  {
   "cell_type": "code",
   "execution_count": 8,
   "id": "ab76c43e",
   "metadata": {},
   "outputs": [
    {
     "name": "stdout",
     "output_type": "stream",
     "text": [
      "R = 153 ,G = 145, B = 146\n",
      "The value of B =153\n"
     ]
    }
   ],
   "source": [
    "#To Pront the RGB Values\n",
    "\n",
    "(R,G,B)= image[280 , 155] #select the particular pixel\n",
    "\n",
    "print(\"R = {} ,G = {}, B = {}\".format(R,G,B))\n",
    "\n",
    "B = image[280 ,155 ,0]\n",
    "\n",
    "print(\"The value of B ={}\".format(B))"
   ]
  },
  {
   "cell_type": "code",
   "execution_count": 9,
   "id": "98776786",
   "metadata": {},
   "outputs": [
    {
     "data": {
      "text/plain": [
       "True"
      ]
     },
     "execution_count": 9,
     "metadata": {},
     "output_type": "execute_result"
    }
   ],
   "source": [
    "#Resizing the image to any dimension\n",
    "\n",
    "\n",
    "size =cv2.resize(image , (1280,692))\n",
    "cv2.imwrite(\"newimage.jpg\" , image)"
   ]
  },
  {
   "cell_type": "code",
   "execution_count": 10,
   "id": "642f9d3e",
   "metadata": {},
   "outputs": [
    {
     "data": {
      "text/plain": [
       "True"
      ]
     },
     "execution_count": 10,
     "metadata": {},
     "output_type": "execute_result"
    }
   ],
   "source": [
    "#Placing a Box Around any rectangle\n",
    "\n",
    "\n",
    "rec =cv2.rectangle(image,(1500,900),(600,400),(255,0,0),2)\n",
    "cv2.imwrite(\"newimage.jpg\" , image)"
   ]
  },
  {
   "cell_type": "code",
   "execution_count": 13,
   "id": "0b412b81",
   "metadata": {},
   "outputs": [
    {
     "data": {
      "text/plain": [
       "True"
      ]
     },
     "execution_count": 13,
     "metadata": {},
     "output_type": "execute_result"
    }
   ],
   "source": [
    "#text adding to the screen\n",
    "\n",
    "text =cv2.putText(image,'ravi car',(500,550),cv2.FONT_HERSHEY_COMPLEX, 4,(255,0,0),2)\n",
    "\n",
    "cv2.imwrite('newimage.jpg' , image)\n"
   ]
  },
  {
   "cell_type": "code",
   "execution_count": 1,
   "id": "aef4bc82",
   "metadata": {},
   "outputs": [
    {
     "name": "stdout",
     "output_type": "stream",
     "text": [
      "Height = 675, Width = 1200, Depth = 3 \n"
     ]
    }
   ],
   "source": [
    "#cv2.imshow() \n",
    "\n",
    "\n",
    "import imutils\n",
    "import cv2\n",
    "\n",
    "image =cv2.imread(\"newimage.jpg\")\n",
    "(h, w, d ) = image.shape\n",
    "print(\"Height = {}, Width = {}, Depth = {} \".format(h,w,d))\n",
    "\n",
    "cv2.imshow('',image)\n"
   ]
  },
  {
   "cell_type": "code",
   "execution_count": 18,
   "id": "cc781849",
   "metadata": {},
   "outputs": [
    {
     "name": "stdout",
     "output_type": "stream",
     "text": [
      "Defaulting to user installation because normal site-packages is not writeable"
     ]
    },
    {
     "name": "stderr",
     "output_type": "stream",
     "text": [
      "  WARNING: The script imshow.exe is installed in 'C:\\Users\\Lenovo\\AppData\\Roaming\\Python\\Python310\\Scripts' which is not on PATH.\n",
      "  Consider adding this directory to PATH or, if you prefer to suppress this warning, use --no-warn-script-location.\n"
     ]
    },
    {
     "name": "stdout",
     "output_type": "stream",
     "text": [
      "\n",
      "Collecting imshow\n",
      "  Using cached imshow-0.0.3.tar.gz (2.2 kB)\n",
      "  Preparing metadata (setup.py): started\n",
      "  Preparing metadata (setup.py): finished with status 'done'\n",
      "Requirement already satisfied: matplotlib in c:\\programdata\\anaconda3\\lib\\site-packages (from imshow) (3.7.0)\n",
      "Requirement already satisfied: numpy in c:\\programdata\\anaconda3\\lib\\site-packages (from imshow) (1.23.5)\n",
      "Requirement already satisfied: packaging>=20.0 in c:\\programdata\\anaconda3\\lib\\site-packages (from matplotlib->imshow) (22.0)\n",
      "Requirement already satisfied: pyparsing>=2.3.1 in c:\\programdata\\anaconda3\\lib\\site-packages (from matplotlib->imshow) (3.0.9)\n",
      "Requirement already satisfied: pillow>=6.2.0 in c:\\programdata\\anaconda3\\lib\\site-packages (from matplotlib->imshow) (9.4.0)\n",
      "Requirement already satisfied: contourpy>=1.0.1 in c:\\programdata\\anaconda3\\lib\\site-packages (from matplotlib->imshow) (1.0.5)\n",
      "Requirement already satisfied: python-dateutil>=2.7 in c:\\programdata\\anaconda3\\lib\\site-packages (from matplotlib->imshow) (2.8.2)\n",
      "Requirement already satisfied: kiwisolver>=1.0.1 in c:\\programdata\\anaconda3\\lib\\site-packages (from matplotlib->imshow) (1.4.4)\n",
      "Requirement already satisfied: cycler>=0.10 in c:\\programdata\\anaconda3\\lib\\site-packages (from matplotlib->imshow) (0.11.0)\n",
      "Requirement already satisfied: fonttools>=4.22.0 in c:\\users\\lenovo\\appdata\\roaming\\python\\python310\\site-packages (from matplotlib->imshow) (4.39.3)\n",
      "Requirement already satisfied: six>=1.5 in c:\\programdata\\anaconda3\\lib\\site-packages (from python-dateutil>=2.7->matplotlib->imshow) (1.16.0)\n",
      "Building wheels for collected packages: imshow\n",
      "  Building wheel for imshow (setup.py): started\n",
      "  Building wheel for imshow (setup.py): finished with status 'done'\n",
      "  Created wheel for imshow: filename=imshow-0.0.3-py3-none-any.whl size=2454 sha256=cf96d02e9dd74b22cd31d4917b6e471d0f63af06cd053647e274a9a6836b52b9\n",
      "  Stored in directory: c:\\users\\lenovo\\appdata\\local\\pip\\cache\\wheels\\91\\ec\\81\\846273c95b5da30418ce4ede9ef4a5f96de7808ac1f95b1edb\n",
      "Successfully built imshow\n",
      "Installing collected packages: imshow\n",
      "Successfully installed imshow-0.0.3\n"
     ]
    }
   ],
   "source": [
    "!pip install imshow"
   ]
  },
  {
   "cell_type": "code",
   "execution_count": null,
   "id": "1c0adf88",
   "metadata": {},
   "outputs": [],
   "source": [
    "#Face detection:\n",
    "\n",
    "#voila-jonnes algorithm\n",
    "\n"
   ]
  },
  {
   "cell_type": "code",
   "execution_count": 9,
   "id": "20e41277",
   "metadata": {},
   "outputs": [
    {
     "name": "stdout",
     "output_type": "stream",
     "text": [
      "Detected Sucessfully\n"
     ]
    }
   ],
   "source": [
    "import cv2\n",
    "\n",
    "##face =cv2.CascadeClassifier('C://Users//Lenovo//Downloads//Rajini.xml\"') #import xml file\n",
    "\n",
    "face_cascade = cv2.CascadeClassifier(cv2.data.haarcascades + 'haarcascade_frontalface_default.xml')\n",
    "eye_cascade = cv2.CascadeClassifier(cv2.data.haarcascades + 'haarcascade_eye.xml')\n",
    "\n",
    "\n",
    "img =cv2.imread('C://Users//Lenovo//Downloads//1907170.jpg')#read the image\n",
    "\n",
    "faces = face_cascade.detectMultiScale(img,1.1,4)#Detect Faces\n",
    "\n",
    "\n",
    "#Draw rectangle arround the faces:\n",
    "\n",
    "for (x,y,w,h) in faces:\n",
    "    cv2.rectangle(img,(x,y),(x+w,y+h),(255,0,0),2)\n",
    "    \n",
    "    \n",
    "#Export The Result:\n",
    "\n",
    "cv2.imwrite(\"face_detected.png\",img)\n",
    "\n",
    "print(\"Detected Sucessfully\")\n",
    "\n",
    "\n",
    "\n"
   ]
  },
  {
   "cell_type": "code",
   "execution_count": null,
   "id": "0fc739bf",
   "metadata": {},
   "outputs": [],
   "source": []
  },
  {
   "cell_type": "code",
   "execution_count": null,
   "id": "326de0e3",
   "metadata": {},
   "outputs": [],
   "source": []
  },
  {
   "cell_type": "code",
   "execution_count": null,
   "id": "2a70ed15",
   "metadata": {},
   "outputs": [],
   "source": []
  },
  {
   "cell_type": "code",
   "execution_count": null,
   "id": "9ffc7f2e",
   "metadata": {},
   "outputs": [],
   "source": []
  },
  {
   "cell_type": "code",
   "execution_count": null,
   "id": "2aa496be",
   "metadata": {},
   "outputs": [],
   "source": []
  },
  {
   "cell_type": "code",
   "execution_count": null,
   "id": "8740f9ba",
   "metadata": {},
   "outputs": [],
   "source": []
  },
  {
   "cell_type": "code",
   "execution_count": null,
   "id": "9f061ecb",
   "metadata": {},
   "outputs": [],
   "source": []
  }
 ],
 "metadata": {
  "kernelspec": {
   "display_name": "Python 3 (ipykernel)",
   "language": "python",
   "name": "python3"
  },
  "language_info": {
   "codemirror_mode": {
    "name": "ipython",
    "version": 3
   },
   "file_extension": ".py",
   "mimetype": "text/x-python",
   "name": "python",
   "nbconvert_exporter": "python",
   "pygments_lexer": "ipython3",
   "version": "3.10.9"
  }
 },
 "nbformat": 4,
 "nbformat_minor": 5
}
